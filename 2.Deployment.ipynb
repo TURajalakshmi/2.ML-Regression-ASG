{
 "cells": [
  {
   "cell_type": "code",
   "execution_count": 1,
   "id": "9ea09196-ca8e-4218-8e05-f03516a0cad8",
   "metadata": {},
   "outputs": [
    {
     "data": {
      "text/plain": [
       "array([17690.41901345])"
      ]
     },
     "execution_count": 1,
     "metadata": {},
     "output_type": "execute_result"
    }
   ],
   "source": [
    "import pickle\n",
    "loaded_model=pickle.load(open(\"finalized_model_SVM Regression.sav\",'rb'))\n",
    "result=loaded_model.predict([[35,28.88,0,1,1]])\n",
    "result"
   ]
  },
  {
   "cell_type": "code",
   "execution_count": null,
   "id": "9bae9e45-5a1a-4e2a-8086-5a7636de24c9",
   "metadata": {},
   "outputs": [],
   "source": []
  }
 ],
 "metadata": {
  "kernelspec": {
   "display_name": "Python [conda env:base] *",
   "language": "python",
   "name": "conda-base-py"
  },
  "language_info": {
   "codemirror_mode": {
    "name": "ipython",
    "version": 3
   },
   "file_extension": ".py",
   "mimetype": "text/x-python",
   "name": "python",
   "nbconvert_exporter": "python",
   "pygments_lexer": "ipython3",
   "version": "3.12.7"
  }
 },
 "nbformat": 4,
 "nbformat_minor": 5
}
